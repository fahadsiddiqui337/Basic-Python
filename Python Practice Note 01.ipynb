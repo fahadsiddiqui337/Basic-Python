{
 "cells": [
  {
   "cell_type": "markdown",
   "id": "cd77eec1",
   "metadata": {},
   "source": [
    "# What is Python?\n",
    "\n",
    "Python is an elegant & robust programming language that delivers both the power and application of traditional compiled languages with the ease of use of simpler scripting and interpreted languages.\n",
    "\n",
    " Python was developed by Guido van Rossum in late 1989.\n",
    " It's High Level Language\n",
    " OOP (Object Oriented Programming)\n",
    " It is Scalable\n",
    " Extensible\n",
    " It's Portable\n",
    " It's Easy To Learn\n",
    " Robust & Effective\n",
    " Memory Manager\n",
    " Interpreted & (Byte) Complied\n",
    " \n",
    "# Features:- It's High Level Language\n",
    " \n",
    "Python is HLL in other words It enables development of program in user friendly programming context.\n",
    "\n",
    "Machine Code     C, C++ & Java     Python, Perl and Etc\n",
    "\n",
    "Python has it's own high level built in data structures such as lists (resizable arrays), dictionaries ( hash tables) and lot more which we will study in this course.\n",
    "\n",
    "# Features:- OOP\n",
    "OOP is a programming model that is totally based on classes and objects, It is used to structure Software program in simple reusable code which is usually a class and then we make a copy of this class which is known as object.\n",
    "Python is not only OOP Lang. It also has functional programming things borrowed from Haskell and Lisp.\n",
    "daws\n",
    "\n",
    "\n",
    "# Features:- It is Scalable\n",
    "Python provides basic building blocks on which you can build an application, and as those needs expand and grow and further they can be easily maintained.\n",
    "\n",
    "# Features:- It is Extensible\n",
    "You're working on some project, the amount of logic, files you write or the feature you made, you can still be able to use in just second whether it be in another file.\n",
    "\n",
    "# Features:- It's Portable\n",
    "Python can be found on wide variety of systems and it is contributing to large parts in the CS domain.\n",
    "\n",
    "# Features:- Robust & Effective\n",
    "When your Python crashes due to errors, the interpreter dumps out a \"stack trace\" full of useful information such as why your program crashed and where in the code (file name, line number, function call, etc.) the error took place.\n",
    "\n",
    "# Features:- Memory Manager\n",
    "It is responsible for:-\n",
    "Allocation of Memory\n",
    "Retrieving and Storing the contents\n",
    "Effective Sharing\n",
    "Minimizing Memory Access Time\n",
    "\n",
    "# Features:- Interpreted & (Byte) Complied\n",
    "Python is classified as Interpreted languages, Traditionally, purely interpreted languages are almost always slower than compiled languages because execution does not take place in a system's native binary language.\n",
    "BUT\n",
    "Python is byte compiled, it helps in boosting up the performance and having advantages of Interpreted languages.\n",
    "\n",
    "# Why Learn Python?\n",
    "Python is currently the most widely used multi-purpose, high-level programming language, which allows programming in Object-Oriented and Procedural paradigms. Python programs are generally smaller than other programming languages like Java. Programmers have to type relatively less and the indentation requirement of the language, makes them readable all the time."
   ]
  },
  {
   "cell_type": "markdown",
   "id": "853cef93",
   "metadata": {},
   "source": [
    "# What is a statement in Python?\n",
    "A statement is an instruction that a Python interpreter can execute. So, in simple words, we can say anything written in Python is a statement."
   ]
  },
  {
   "cell_type": "markdown",
   "id": "ff375867",
   "metadata": {},
   "source": [
    "# Variable In Python\n",
    "You can think of a variable as a container or a storage location with a specific name.\n",
    "\n",
    "In Python, you can create a variable by assigning a value to it using the equal sign (=). \n",
    "Here's a simple example: x = 10\n",
    "\n",
    "\n",
    "\n"
   ]
  },
  {
   "cell_type": "code",
   "execution_count": 4,
   "id": "f3b6b439",
   "metadata": {},
   "outputs": [
    {
     "name": "stdout",
     "output_type": "stream",
     "text": [
      "4\n"
     ]
    }
   ],
   "source": [
    "# Examples\n",
    "\n",
    "X = 4\n",
    "print(X)"
   ]
  },
  {
   "cell_type": "code",
   "execution_count": 6,
   "id": "b19fbdec",
   "metadata": {},
   "outputs": [
    {
     "name": "stdout",
     "output_type": "stream",
     "text": [
      "Fahad\n"
     ]
    }
   ],
   "source": [
    "Student = (\"Fahad\")\n",
    "print(Student)"
   ]
  },
  {
   "cell_type": "markdown",
   "id": "be8faf0c",
   "metadata": {},
   "source": [
    "# Variable Type OR Data Type In Python\n",
    "Every variable in Python has a data type, which defines the type of data it can hold.\n",
    "\n",
    "## Common data types in Python include:\n",
    "\n",
    "## Integers (int):\n",
    "Whole numbers without a decimal point. Example: 5, -10, 1000.\n",
    "\n",
    "## Floats (float):\n",
    "Numbers with a decimal point or in exponential form. Example: 3.14, 2.5e2 (which is equivalent to 250.0).\n",
    "\n",
    "## Strings (str):\n",
    "Sequences of characters enclosed in single (') or double (\") quotes. Example: 'Hello', \"Python\".\n",
    "\n",
    "## Booleans (bool):\n",
    "Represents either True or False."
   ]
  },
  {
   "cell_type": "code",
   "execution_count": 8,
   "id": "9aa1d5db",
   "metadata": {},
   "outputs": [
    {
     "name": "stdout",
     "output_type": "stream",
     "text": [
      "4\n"
     ]
    }
   ],
   "source": [
    "# Expamples of Integers:\n",
    "a = 4\n",
    "print(a)"
   ]
  },
  {
   "cell_type": "code",
   "execution_count": 9,
   "id": "ba885bf1",
   "metadata": {},
   "outputs": [
    {
     "name": "stdout",
     "output_type": "stream",
     "text": [
      "0.4\n"
     ]
    }
   ],
   "source": [
    "# Expamples of Floats\n",
    "x = 0.4\n",
    "print(x)"
   ]
  },
  {
   "cell_type": "code",
   "execution_count": 13,
   "id": "2e591c62",
   "metadata": {},
   "outputs": [
    {
     "name": "stdout",
     "output_type": "stream",
     "text": [
      "Data Science and AI\n"
     ]
    }
   ],
   "source": [
    "# Expamples of Strings\n",
    "\n",
    "b = (\"Data Science and AI\")\n",
    "print(b)"
   ]
  },
  {
   "cell_type": "code",
   "execution_count": 16,
   "id": "6a3162e3",
   "metadata": {},
   "outputs": [
    {
     "name": "stdout",
     "output_type": "stream",
     "text": [
      "True False\n"
     ]
    }
   ],
   "source": [
    "# Expamples of Booleans\n",
    "\n",
    "x = True\n",
    "y = False\n",
    "\n",
    "print(x,y)\n"
   ]
  },
  {
   "cell_type": "markdown",
   "id": "f71e52b8",
   "metadata": {},
   "source": [
    "# Operators\n",
    "Operators are special symbols that perform specific operations on one or more operands (values) and then return a result. For example, you can calculate the sum of two numbers using an addition (+) operator.\n",
    "\n",
    "## Types of operators\n",
    "1. Arithmetic operator\n",
    "2. Relational operators\n",
    "3. Logical operators"
   ]
  },
  {
   "cell_type": "markdown",
   "id": "8b819680",
   "metadata": {},
   "source": [
    "# Arithmetic operator\n",
    "Arithmetic operators are the most commonly used. The Python programming language provides arithmetic operators that perform addition, subtraction, multiplication, and division. It works the same as basic mathematics.\n",
    "\n",
    " +(Addition)\n",
    " \n",
    " -(Subtraction)\n",
    " \n",
    " *(Multiplication)\n",
    " \n",
    " /  (Division)\n",
    " \n",
    " // (Floor division)\n",
    " \n",
    "  ℅ (Modulus)\n",
    "  \n",
    " ** (Exponentiation)"
   ]
  },
  {
   "cell_type": "code",
   "execution_count": 20,
   "id": "ce027ad2",
   "metadata": {},
   "outputs": [
    {
     "name": "stdout",
     "output_type": "stream",
     "text": [
      "9\n"
     ]
    }
   ],
   "source": [
    "# Addition \n",
    "\n",
    "x = 4\n",
    "y = 5\n",
    "\n",
    "print(x+y)"
   ]
  },
  {
   "cell_type": "code",
   "execution_count": 25,
   "id": "e2899cc9",
   "metadata": {},
   "outputs": [
    {
     "name": "stdout",
     "output_type": "stream",
     "text": [
      "Fahad Siddiqui\n"
     ]
    }
   ],
   "source": [
    "name = (\"Fahad\")\n",
    "surname = (\"Siddiqui\")\n",
    "\n",
    "print(name+ \" \" +surname)"
   ]
  },
  {
   "cell_type": "code",
   "execution_count": 27,
   "id": "36b1bc76",
   "metadata": {},
   "outputs": [
    {
     "name": "stdout",
     "output_type": "stream",
     "text": [
      "20\n"
     ]
    }
   ],
   "source": [
    "# Subtraction \n",
    "\n",
    "a = 10\n",
    "b = 30\n",
    "\n",
    "print(b-a)\n"
   ]
  },
  {
   "cell_type": "code",
   "execution_count": 28,
   "id": "3b04ce70",
   "metadata": {},
   "outputs": [
    {
     "name": "stdout",
     "output_type": "stream",
     "text": [
      "54\n",
      "216\n"
     ]
    }
   ],
   "source": [
    "# Multiplication \n",
    "\n",
    "a = 6\n",
    "b = 9\n",
    "c = 4\n",
    "\n",
    "print(a*b)\n",
    "print(a*b*c)"
   ]
  },
  {
   "cell_type": "code",
   "execution_count": 29,
   "id": "9799142e",
   "metadata": {},
   "outputs": [
    {
     "name": "stdout",
     "output_type": "stream",
     "text": [
      "FahadFahadFahad\n"
     ]
    }
   ],
   "source": [
    "Name = (\"Fahad\")\n",
    "print(name*3)"
   ]
  },
  {
   "cell_type": "code",
   "execution_count": 30,
   "id": "1b568717",
   "metadata": {},
   "outputs": [
    {
     "name": "stdout",
     "output_type": "stream",
     "text": [
      "0.25\n",
      "0.025\n"
     ]
    }
   ],
   "source": [
    "# Division\n",
    "\n",
    "x = 2\n",
    "y = 8\n",
    "z = 10\n",
    "\n",
    "print(x/y)\n",
    "print(x/y/z)"
   ]
  },
  {
   "cell_type": "code",
   "execution_count": 32,
   "id": "9103e699",
   "metadata": {},
   "outputs": [
    {
     "name": "stdout",
     "output_type": "stream",
     "text": [
      "2.0\n",
      "2\n"
     ]
    }
   ],
   "source": [
    "#Floor division\n",
    "\n",
    "x = 2\n",
    "y = 4\n",
    "z = 2.2\n",
    "\n",
    "# normal divion\n",
    "print(y/x)\n",
    "      \n",
    "# Flooe division to get result as integer\n",
    "print(y//x)      \n",
    "\n",
    "      "
   ]
  },
  {
   "cell_type": "code",
   "execution_count": 36,
   "id": "a1df8963",
   "metadata": {},
   "outputs": [
    {
     "name": "stdout",
     "output_type": "stream",
     "text": [
      "3\n"
     ]
    }
   ],
   "source": [
    "# Modulus \n",
    "#the Modulus operator divides one value by a second and gives the remainder as a result.\n",
    "\n",
    "x = 15\n",
    "y = 4\n",
    "print(x % y)"
   ]
  },
  {
   "cell_type": "code",
   "execution_count": 37,
   "id": "a1c44b70",
   "metadata": {},
   "outputs": [
    {
     "name": "stdout",
     "output_type": "stream",
     "text": [
      "4\n"
     ]
    }
   ],
   "source": [
    "# Exponent\n",
    "# You can use it as a shortcut to calculate the exponential value.\n",
    "\n",
    "num = 2\n",
    "print(num**2)"
   ]
  },
  {
   "cell_type": "markdown",
   "id": "2f31daa1",
   "metadata": {},
   "source": [
    "# Relational \n",
    "Relational operators are also called comparison operators. It performs a comparison between two values. It returns a boolean  True or False depending upon the result of the comparison"
   ]
  },
  {
   "cell_type": "code",
   "execution_count": 38,
   "id": "a0b4649f",
   "metadata": {},
   "outputs": [
    {
     "name": "stdout",
     "output_type": "stream",
     "text": [
      "True\n",
      "True\n",
      "False\n",
      "True\n",
      "False\n",
      "True\n",
      "True\n",
      "False\n",
      "True\n",
      "True\n",
      "False\n",
      "True\n"
     ]
    }
   ],
   "source": [
    "x = 10\n",
    "y = 5\n",
    "z = 2\n",
    "\n",
    "# > Greater than\n",
    "print(x > y)  # True\n",
    "print(x > y > z)  # True\n",
    "\n",
    "# < Less than\n",
    "print(x < y)  # False\n",
    "print(y < x)  # True\n",
    "\n",
    "# Equal to \n",
    "print(x == y)  # False \n",
    "print(x == 10)  # True \n",
    "\n",
    "# != Not Equal to \n",
    "print(x != y)  # True \n",
    "print(10 != x)  # False \n",
    "\n",
    "# >= Greater than equal to\n",
    "print(x >= y)  # True\n",
    "print(10 >= x)  # True\n",
    "\n",
    "# <= Less than equal to\n",
    "print(x <= y)  # False\n",
    "print(10 <= x)  # True"
   ]
  },
  {
   "attachments": {
    "image.png": {
     "image/png": "[encoded data removed]"
    }
   },
   "cell_type": "markdown",
   "id": "e1fd475e",
   "metadata": {},
   "source": [
    "# Logical operators\n",
    "Logical operators are useful when checking a condition is true or not. Python has three logical operators. \n",
    "All logical operator returns a boolean value True or False depending on the condition in which it is used. and Denotetd by &\n",
    "or  Denoted by |\n",
    "![image.png](attachment:image.png)"
   ]
  },
  {
   "cell_type": "code",
   "execution_count": 41,
   "id": "d6595b11",
   "metadata": {},
   "outputs": [
    {
     "data": {
      "text/plain": [
       "True"
      ]
     },
     "execution_count": 41,
     "metadata": {},
     "output_type": "execute_result"
    }
   ],
   "source": [
    "a = False\n",
    "b = True"
   ]
  },
  {
   "cell_type": "code",
   "execution_count": 42,
   "id": "ae97cda6",
   "metadata": {
    "scrolled": true
   },
   "outputs": [
    {
     "data": {
      "text/plain": [
       "False"
      ]
     },
     "execution_count": 42,
     "metadata": {},
     "output_type": "execute_result"
    }
   ],
   "source": [
    "a & b # False"
   ]
  },
  {
   "cell_type": "code",
   "execution_count": 43,
   "id": "a7df28fe",
   "metadata": {},
   "outputs": [
    {
     "data": {
      "text/plain": [
       "False"
      ]
     },
     "execution_count": 43,
     "metadata": {},
     "output_type": "execute_result"
    }
   ],
   "source": [
    "b & a # False"
   ]
  },
  {
   "cell_type": "code",
   "execution_count": 44,
   "id": "80274b26",
   "metadata": {},
   "outputs": [
    {
     "data": {
      "text/plain": [
       "True"
      ]
     },
     "execution_count": 44,
     "metadata": {},
     "output_type": "execute_result"
    }
   ],
   "source": [
    "a | b # True"
   ]
  },
  {
   "cell_type": "code",
   "execution_count": 45,
   "id": "09f15586",
   "metadata": {},
   "outputs": [
    {
     "data": {
      "text/plain": [
       "True"
      ]
     },
     "execution_count": 45,
     "metadata": {},
     "output_type": "execute_result"
    }
   ],
   "source": [
    "b | a # True"
   ]
  },
  {
   "cell_type": "code",
   "execution_count": 39,
   "id": "7cb60b8d",
   "metadata": {},
   "outputs": [
    {
     "name": "stdout",
     "output_type": "stream",
     "text": [
      "False\n",
      "True\n",
      "False\n",
      "False\n",
      "8\n"
     ]
    }
   ],
   "source": [
    "print(True and False)  # False\n",
    "# both are True\n",
    "print(True and True)  # True\n",
    "print(False and False)  # False\n",
    "print(False and True)  # false\n",
    "\n",
    "# actual use in code\n",
    "a = 2\n",
    "b = 4\n",
    "\n",
    "# Logical and\n",
    "if a > 0 and b > 0:\n",
    "    # both conditions are true\n",
    "    print(a * b)\n",
    "else:\n",
    "    print(\"Do nothing\")"
   ]
  },
  {
   "cell_type": "code",
   "execution_count": null,
   "id": "5b2dcf1f",
   "metadata": {},
   "outputs": [],
   "source": []
  }
 ],
 "metadata": {
  "kernelspec": {
   "display_name": "Python 3 (ipykernel)",
   "language": "python",
   "name": "python3"
  },
  "language_info": {
   "codemirror_mode": {
    "name": "ipython",
    "version": 3
   },
   "file_extension": ".py",
   "mimetype": "text/x-python",
   "name": "python",
   "nbconvert_exporter": "python",
   "pygments_lexer": "ipython3",
   "version": "3.11.5"
  }
 },
 "nbformat": 4,
 "nbformat_minor": 5
}
